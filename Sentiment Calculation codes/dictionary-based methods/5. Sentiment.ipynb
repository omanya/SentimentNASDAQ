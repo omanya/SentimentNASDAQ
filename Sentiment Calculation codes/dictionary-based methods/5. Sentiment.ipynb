{
 "cells": [
  {
   "cell_type": "code",
   "execution_count": null,
   "metadata": {},
   "outputs": [],
   "source": [
    "import csv\n",
    "import sys\n",
    "import pandas as pd\n",
    "import pysentiment2 as ps\n",
    "import re\n",
    "\n",
    "#The following code extracts the positive, negative and net tone sentiment measures based on the Harvard and LM dictionaries. \n",
    "#Both dictionaries were accessed through the package pysentiment2\n",
    "\n",
    "#Function that counts words of text article documents\n",
    "def count_words(Text):\n",
    "    word_count = len(re.findall(r'\\w+', Text))\n",
    "    return word_count\n",
    "\n",
    "#To max out field limit\n",
    "csv.field_size_limit(sys.maxsize)\n",
    "\n",
    "data = pd.read_csv(\"merge_data.csv\", index_col = False)\n",
    "print(data.columns)\n",
    "\n",
    "#Initial dictionary methods. Harvard and LM dictionaries are used to obtain text sentiment\n",
    "hiv4 = ps.HIV4()\n",
    "lm = ps.LM()\n",
    "\n",
    "data_fill = []\n",
    "\n",
    "for index, row in data.iterrows():\n",
    "\n",
    "    #Use text in csv file to tokenize and get counts of positive and negative words according to HIV4 and LM\n",
    "    text = row[\"Text\"]\n",
    "    word_count = row[\"word_count\"]\n",
    "\n",
    "    tokens_hiv4 = hiv4.tokenize(text)\n",
    "    tokens_lm = lm.tokenize(text)\n",
    "    score_hiv4 = hiv4.get_score(tokens_hiv4)\n",
    "    score_lm = lm.get_score(tokens_lm)\n",
    "\n",
    "    hiv4_pos = score_hiv4[\"Positive\"]\n",
    "    hiv4_neg = score_hiv4[\"Negative\"]\n",
    "    hiv4_pos_tone = hiv4_pos / word_count\n",
    "    hiv4_neg_tone = hiv4_neg / word_count\n",
    "    hiv4_net_tone = (hiv4_pos - hiv4_neg) / (hiv4_pos + hiv4_neg)\n",
    "\n",
    "    lm_pos = score_lm[\"Positive\"]\n",
    "    lm_neg = score_lm[\"Negative\"]\n",
    "    lm_pos_tone = lm_pos / word_count\n",
    "    lm_neg_tone = lm_neg / word_count\n",
    "    lm_net_tone = (lm_pos - lm_neg) / (lm_pos + lm_neg)\n",
    "\n",
    "    data_fill.append([hiv4_pos_tone, hiv4_neg_tone, hiv4_net_tone, lm_pos_tone, lm_neg_tone, lm_net_tone])\n",
    "\n",
    "dm_sentiment = pd.DataFrame(data_fill, columns = [\"HIV4_pos\", \"HIV4_neg\", \"HIV4_tone\", \"LM_pos\", \"LM_neg\", \"LM_tone\"])\n",
    "\n",
    "#References:\n",
    "#DeRobertis, N. (2020). Pysentiment2 0.1.1 https://pypi.org/project/pysentiment2/"
   ]
  }
 ],
 "metadata": {
  "colab": {
   "authorship_tag": "ABX9TyNKs9Up++AQikKzVsULDXv/",
   "collapsed_sections": [],
   "include_colab_link": true,
   "name": "DM.ipynb",
   "provenance": []
  },
  "kernelspec": {
   "display_name": "Python 3",
   "language": "python",
   "name": "python3"
  },
  "language_info": {
   "codemirror_mode": {
    "name": "ipython",
    "version": 3
   },
   "file_extension": ".py",
   "mimetype": "text/x-python",
   "name": "python",
   "nbconvert_exporter": "python",
   "pygments_lexer": "ipython3",
   "version": "3.8.8"
  }
 },
 "nbformat": 4,
 "nbformat_minor": 1
}
